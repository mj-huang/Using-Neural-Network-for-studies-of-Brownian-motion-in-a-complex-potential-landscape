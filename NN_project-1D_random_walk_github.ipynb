{
 "cells": [
  {
   "cell_type": "markdown",
   "metadata": {},
   "source": [
    "## Using Neural Network for studies of Brownian motion in a complex potential landscape\n",
    "\n",
    "### Potential energy landscape and force\n",
    "Neural network is known to be able to express any function, $V(\\mathbf{x})$, where $\\mathbf{x}$ is a vector in a high-dimensional space. \n",
    "\n",
    "For instance, in a geographic (three-dimensional) coordinate system the components of the vector $\\mathbf{x}$ are latitude and longitude and the function $V(\\mathbf{x})$ could be potential energy at location $\\mathbf{x}$ relative to potential energy at sea surface.\n",
    "\n",
    "In this notebook, I consider a two-dimensional system where the in put to the function $V(x)$ is the position of a particle in the $x$ direction and $V(x)$ is the corresponding potential energy.\n",
    "\n",
    "In addition, I discuss the motion of a Brownian particle in a potential energy surface, where the magnitude of force is\n",
    "\\begin{align}\n",
    "&F(x) = \\frac{V(x + \\delta / 2) - V(x - \\delta / 2)}{\\delta } \n",
    "&\\mbox{Equation (1)}\n",
    "\\end{align}\n",
    "determined by the potential energy difference between two points separated by a small distance $\\delta$.\n",
    "\n",
    "###  Brownian motion in a potential energy surface\n",
    "Brownian motion is the random motion of particles named after a botanist Robert Brown. This mechenism that causes this motion is later explained by Albert Einstein in his paper \"On the movement of small particles suspended in a stationary liquid demanded by the molecular-kinetic theory of heat\" in 1905.\n",
    "\n",
    "The dynamics of a Browian particle in one dimension is a Wiener process and the corresponding dynamical equation is\n",
    "\\begin{align}\n",
    "&x(t+dt) = x(t) + \\frac{1}{\\gamma} F(x) dt  + \\sqrt{2D dt} \\zeta(t),\n",
    "&\\mbox{Equation (2)}\n",
    "\\end{align}\n",
    "where $F(x)$ is the force acting on the particle due to the gradient of $V(x)$, the $ \\sqrt{2D dt} \\zeta(t)$ is the random movement due to thermal noise that is assumed uncorrelated between subsequent time steps. The constant $\\gamma$ and $D$ are the friction coefficient and the diffusion constant, respectively, which are linked by the Einstein relation\n",
    "\\begin{equation}\n",
    "D = \\frac{k_BT}{\\gamma},\n",
    "\\end{equation}\n",
    "with $k_BT$ the thermal energy with $k_B$ the Boltzmann constant and $T$ is the temperature.\n",
    "\n",
    "###  Using neural network to represent a potential energy surface\n",
    "In high dimensions, the potential energy surface is usually complex and not easy to express analytically. Here a neural network will be use to reconstruct the potential energy surface. In this notebook I will consider a simple potentail surface that consists of two local minima. The potential is a sum of two Gaussian-like wells\n",
    "\\begin{align}\n",
    "&V(x) = - E_a e^{-(x-x_a)^2 / \\sigma_a} - E_b e^{-(x-x_b)^2/ \\sigma_b},\n",
    "&\\mbox{Equation (3)}\n",
    "\\end{align}\n",
    "where $E_{a,b}$ control the depth of the wells and $x_{a,b}$, $\\sigma_{a,b}$ determine the center and the width of the wells, respectively.\n",
    "\n",
    "I will use a fully-connected neural network with two hidden-layers each with $50$ neurons to reconstruct the potential energy surface. The network is trained with a set of positions $x$ as the input and their corresponding potential energy $V(x)$ as the output. After training, the network can be used to predict the potential energy (output) given the poistion of the particle (input to the network).\n",
    "\n",
    "###  Simulating Brownian particle dynamics in a potential energy surface\n",
    "To simulate the motion of a Brownian particle in this potential energy surface, the particle is placed at an initial position $x_0$ and  the force is computed based on Equation (1). Then the time evoluation of its position is solved iteratively using Equation (2). The friction coefficient is chosen to be $\\gamma = 50$ and the value of the diffusion constant is $D = k_BT/\\gamma$ based on the Einstein relation. To test the method, the equilibrium population of an ensemble of Brownian particles obtained from simulations will be compared to the thermal dynamic prediction.\n",
    "\n"
   ]
  },
  {
   "cell_type": "markdown",
   "metadata": {},
   "source": [
    "### Get started, first load the packages "
   ]
  },
  {
   "cell_type": "code",
   "execution_count": 1,
   "metadata": {},
   "outputs": [
    {
     "name": "stderr",
     "output_type": "stream",
     "text": [
      "Using TensorFlow backend.\n"
     ]
    }
   ],
   "source": [
    "import numpy as np\n",
    "import itertools as it\n",
    "import matplotlib.pyplot as plt\n",
    "import sklearn.model_selection as skms\n",
    "import keras.utils as ku\n",
    "import keras.models as km\n",
    "import keras.layers as kl\n",
    "import keras.regularizers as kr\n",
    "import keras.initializers as ki"
   ]
  },
  {
   "cell_type": "markdown",
   "metadata": {},
   "source": [
    "### Define the target function that output $V(x)$ and generate data randomly along $x$\n",
    "The paramenters for $V(x)$ are chosen as $E_a = -10$, $x_a = -1.5$, $\\sigma_a = 2$ and $E_b = -12$, $x_b = 1.5$, $\\sigma_b = 5$. "
   ]
  },
  {
   "cell_type": "code",
   "execution_count": 2,
   "metadata": {},
   "outputs": [],
   "source": [
    "def V(x):\n",
    "    '''\n",
    "    define the target potential function\n",
    "    '''\n",
    "    Ea = -10.0; x_a = -1.5; sigma_a = 2.0\n",
    "    Eb = -12.0; x_b = 1.5 ; sigma_b = 2.0\n",
    "    return Ea*np.exp(-(x-x_a)**2 / sigma_a) + Eb*np.exp(-(x-x_b)**2/sigma_b)\n",
    "\n",
    "def generate_random_data(n):\n",
    "    '''\n",
    "    generate random points along the x-axis ranging from x=-5 to x=5 \n",
    "    and compute V(x) using target function at each x\n",
    "    '''\n",
    "    # generate random points along the x-axis ranging from x=-5 to x=5\n",
    "    np.random.seed(21)\n",
    "    x = ( np.random.random(n) - 0.5 ) * 2.0 * 5.0\n",
    "    \n",
    "    # compute V(x) using target function at each x\n",
    "    V_x = V(x)\n",
    "    \n",
    "    return x, V_x"
   ]
  },
  {
   "cell_type": "markdown",
   "metadata": {},
   "source": [
    ", and plot the potential function"
   ]
  },
  {
   "cell_type": "code",
   "execution_count": 3,
   "metadata": {},
   "outputs": [
    {
     "data": {
      "image/png": "[encoded data removed]",
      "text/plain": [
       "<Figure size 432x288 with 1 Axes>"
      ]
     },
     "metadata": {},
     "output_type": "display_data"
    }
   ],
   "source": [
    "# generate n random data\n",
    "n = 100000\n",
    "x, V_x = generate_random_data(n)\n",
    "\n",
    "plt.plot(x, V_x, \".\")\n",
    "plt.xlim(-5,5)\n",
    "plt.ylim(-15,2.5)\n",
    "plt.xticks(np.arange(-5.0, 5.01, 1.0))\n",
    "plt.yticks(np.arange(-15.0, 5.01, 5.0))\n",
    "plt.xlabel(\"x\")\n",
    "plt.ylabel(\"V(x)\")\n",
    "plt.show()"
   ]
  },
  {
   "cell_type": "markdown",
   "metadata": {},
   "source": [
    "### Train the neural network to reconstruct the potential function\n",
    "\n",
    "First, we perform feature scaling and mean normalization on the height of the potential function to make training converge faster,"
   ]
  },
  {
   "cell_type": "code",
   "execution_count": 4,
   "metadata": {},
   "outputs": [],
   "source": [
    "# Perform feature scaling and mean normalization on the height of the potential function\n",
    "\n",
    "V_x_std = np.std(V_x)    # compute the standard deviation of y\n",
    "V_x_mean = np.mean(V_x)  # compute the mean of y\n",
    "V_x_rescaled = ( V_x - V_x_mean ) / V_x_std # perform feature scaling and mean normalization"
   ]
  },
  {
   "cell_type": "markdown",
   "metadata": {},
   "source": [
    "and split data into training and test sets."
   ]
  },
  {
   "cell_type": "code",
   "execution_count": 5,
   "metadata": {},
   "outputs": [],
   "source": [
    "# split data into training and test sets\n",
    "X_train, X_test, V_x_train, V_x_test = skms.train_test_split(x, V_x_rescaled, test_size=0.2, random_state=21)"
   ]
  },
  {
   "cell_type": "markdown",
   "metadata": {},
   "source": [
    "### Construct the network\n",
    "The network has a sinlge input node and a single output node with two hidden layers each with 50 nodes"
   ]
  },
  {
   "cell_type": "code",
   "execution_count": 6,
   "metadata": {},
   "outputs": [],
   "source": [
    "def NN_model(num_hidden_nodes, input_size = 1, output_size = 1):\n",
    "    # Initialize the model.\n",
    "    model = km.Sequential()\n",
    "\n",
    "    # Add two hidden fully-connected layers\n",
    "    model.add(kl.Dense(num_hidden_nodes, \n",
    "                       input_dim = input_size, \n",
    "                       activation = 'relu', \n",
    "                      ))\n",
    "    \n",
    "    model.add(kl.Dense(num_hidden_nodes, \n",
    "                       activation = 'relu', \n",
    "                      ))\n",
    "\n",
    "    # Add the output layer.\n",
    "    model.add(kl.Dense(output_size, activation ='linear'))\n",
    "\n",
    "    # Return the model.\n",
    "    return model"
   ]
  },
  {
   "cell_type": "code",
   "execution_count": 7,
   "metadata": {},
   "outputs": [
    {
     "name": "stdout",
     "output_type": "stream",
     "text": [
      "_________________________________________________________________\n",
      "Layer (type)                 Output Shape              Param #   \n",
      "=================================================================\n",
      "dense_1 (Dense)              (None, 50)                100       \n",
      "_________________________________________________________________\n",
      "dense_2 (Dense)              (None, 50)                2550      \n",
      "_________________________________________________________________\n",
      "dense_3 (Dense)              (None, 1)                 51        \n",
      "=================================================================\n",
      "Total params: 2,701\n",
      "Trainable params: 2,701\n",
      "Non-trainable params: 0\n",
      "_________________________________________________________________\n"
     ]
    }
   ],
   "source": [
    "# Train the network\n",
    "num_hidden_nodes = 50\n",
    "model = NN_model(num_hidden_nodes)\n",
    "model.summary()\n",
    "model.compile(optimizer='adam', loss=\"mean_squared_error\")\n",
    "fit = model.fit(X_train, V_x_train, epochs=50, batch_size=100, verbose=0)"
   ]
  },
  {
   "cell_type": "markdown",
   "metadata": {},
   "source": [
    "## Evaluate the test set"
   ]
  },
  {
   "cell_type": "code",
   "execution_count": 8,
   "metadata": {},
   "outputs": [
    {
     "data": {
      "image/png": "[encoded data removed]",
      "text/plain": [
       "<Figure size 432x288 with 1 Axes>"
      ]
     },
     "metadata": {},
     "output_type": "display_data"
    },
    {
     "data": {
      "image/png": "[encoded data removed]",
      "text/plain": [
       "<Figure size 432x288 with 1 Axes>"
      ]
     },
     "metadata": {},
     "output_type": "display_data"
    }
   ],
   "source": [
    "# Plot the prediction of test set and difference between the actual value and the predicted value\n",
    "\n",
    "def compute_V_x_predict(V_x):\n",
    "    return np.array([ vx[0] for vx in V_x ])\n",
    "\n",
    "V_x_predict = ( compute_V_x_predict( model.predict(X_test)) *  V_x_std ) + V_x_mean\n",
    "V_x_test_actual = (V_x_test*V_x_std)+V_x_mean\n",
    "\n",
    "#Compare the actual and predicted values of potential surface\n",
    "plt.plot(X_test, V_x_predict, \"o\", label='prediction')\n",
    "plt.plot(X_test, V_x_test_actual, \".\", label='actual value')\n",
    "plt.xlim(-5,5)\n",
    "plt.xticks(np.arange(-5.0, 5.01, 1.0))\n",
    "plt.yticks(np.arange(-15.0, 5.01, 5.0))\n",
    "plt.xlabel(\"x\")\n",
    "plt.ylabel(\"V(x)\")\n",
    "plt.legend()\n",
    "plt.show()\n",
    "\n",
    "#Plot the difference between the actual and predicted values of potential surface\n",
    "plt.plot(X_test, np.fabs(V_x_predict - V_x_test_actual), \"g.\")\n",
    "plt.xlim(-5,5)\n",
    "plt.ylim(-0.2,0.2)\n",
    "plt.xticks(np.arange(-5.0, 5.01, 1.0))\n",
    "plt.yticks(np.arange(-0.2, 0.201, 0.05))\n",
    "plt.xlabel(\"x\")\n",
    "plt.ylabel(\"$\\Delta V(x)$\")\n",
    "plt.show()"
   ]
  },
  {
   "cell_type": "markdown",
   "metadata": {},
   "source": [
    "## Compare the gradient of the potential surface\n",
    "\n",
    "The analytical expression for the gradient is\n",
    "\\begin{align}\n",
    "&\\frac{dV(x)}{dx} = \\frac{2a(x-x_a)}{\\sigma_a} e^{-(x-x_a)^2/\\sigma_a} + \\frac{2b(x-x_b)}{\\sigma_b} e^{-(x-x_b)^2/\\sigma_b}.\n",
    "&\\mbox{Equation (4)}\n",
    "\\end{align}\n",
    "\n",
    "The gradient predicted by the trained network will be computed using finite difference as Eq.(1) with $\\delta = 0.5$."
   ]
  },
  {
   "cell_type": "code",
   "execution_count": 9,
   "metadata": {},
   "outputs": [
    {
     "data": {
      "image/png": "[encoded data removed]",
      "text/plain": [
       "<Figure size 432x288 with 1 Axes>"
      ]
     },
     "metadata": {},
     "output_type": "display_data"
    }
   ],
   "source": [
    "def dVdx_analytical(x):\n",
    "    '''\n",
    "    compute the analytical solution of potential surface gradient\n",
    "    '''\n",
    "    Ea = -10.0; x_a = -1.5; sigma_a = 2.0\n",
    "    Eb = -12.0; x_b = 1.5 ; sigma_b = 2.0\n",
    "    return -2.0*Ea*(x-x_a)/sigma_a*np.exp(-(x-x_a)**2 / sigma_a ) - 2.0*Eb*(x-x_b)/sigma_b*np.exp(-(x-x_b)**2/sigma_b)\n",
    "\n",
    "delta = 0.5\n",
    "x = np.linspace(-5,5,1000)\n",
    "\n",
    "dVdx_predict = []\n",
    "for xx in x :\n",
    "    dVdx = ( model.predict(np.array([xx-delta*0.5, xx+delta*0.5])) * V_x_std ) + V_x_mean \n",
    "    dVdx_predict.append( (dVdx[1] - dVdx[0])/delta )\n",
    "    \n",
    "plt.plot(x, dVdx_analytical(x), \".\", label='analytical')\n",
    "plt.plot(x, dVdx_predict, label='predict')\n",
    "plt.xlim(-5,5)\n",
    "plt.ylim(-10,10)\n",
    "plt.xticks(np.arange(-5.0, 5.01, 1.0))\n",
    "plt.yticks(np.arange(-10.0, 10.01, 5.0))\n",
    "plt.xlabel(\"x\")\n",
    "plt.ylabel(\"dV(x)/dx\")\n",
    "plt.legend()\n",
    "plt.show()\n"
   ]
  },
  {
   "cell_type": "markdown",
   "metadata": {},
   "source": [
    "## Brownian motion in a potential enregy surface\n",
    "Now, let's place a Browian particle in the system. \n",
    "1. The thermal energy $k_BT$ is chosen to be the energy unit and the friction coefficient is chosen as $\\gamma = 50$. \n",
    "2. The time evoluation of the particle is given by equation (2) with the time step size $dt = 0.1$. \n",
    "3. The force due to the presence of potential gradient acting on the particle is computed using equation (1) with the value of V(x) computed using the trained neural network.  "
   ]
  },
  {
   "cell_type": "code",
   "execution_count": 10,
   "metadata": {},
   "outputs": [],
   "source": [
    "# Simulating Brownian motion in a potential enregy surface\n",
    "\n",
    "# system parameters\n",
    "kT = 1.0\n",
    "gamma = 50.0\n",
    "D = kT/gamma\n",
    "\n",
    "# simulation time step and sampling rate (every unit time)\n",
    "dt = 0.1\n",
    "sampling_rate = int(1.0/dt)\n",
    "n_step = 100000\n",
    "\n",
    "# precalculate the factors used in simulation\n",
    "delta = 0.5 \n",
    "sqrt_2Ddt = np.sqrt(2.0*D*dt)\n",
    "gamma_inv_dt = dt/gamma\n",
    "\n",
    "# motor trajectory\n",
    "x_trajectory = []   \n",
    "V_x_trajectory = []\n",
    "\n",
    "# random forces\n",
    "np.random.seed(21)\n",
    "random_force = np.random.randn(n_step)*sqrt_2Ddt\n",
    "\n",
    "# initial position of the Brownian particle\n",
    "x0 = np.array([-2.0]) \n",
    "\n",
    "# run simulation\n",
    "for i, ran_force in enumerate(random_force):\n",
    "    \n",
    "    # compute local gradient using the prediction of the trained network at the current point\n",
    "    dVdx = model.predict(np.array([x0-delta*0.5, x0+delta*0.5, x0])) * V_x_std + V_x_mean \n",
    "    Vx = dVdx[2]\n",
    "    dVdx = (dVdx[1] - dVdx[0])/delta\n",
    "    \n",
    "    # store particle trajectory \n",
    "    if i%sampling_rate == 0 : \n",
    "        x_trajectory.append(x0)\n",
    "        V_x_trajectory.append(Vx)\n",
    "        \n",
    "    # update particle poisiton with a white noise\n",
    "    x0 = x0 - gamma_inv_dt*dVdx + ran_force\n",
    "\n",
    "x_trajectory = np.array(x_trajectory)\n",
    "V_x_trajectory = np.array(V_x_trajectory)"
   ]
  },
  {
   "cell_type": "markdown",
   "metadata": {},
   "source": [
    "#### Plot the trajectory "
   ]
  },
  {
   "cell_type": "code",
   "execution_count": 11,
   "metadata": {},
   "outputs": [
    {
     "data": {
      "image/png": "[encoded data removed]",
      "text/plain": [
       "<Figure size 432x288 with 1 Axes>"
      ]
     },
     "metadata": {},
     "output_type": "display_data"
    },
    {
     "data": {
      "image/png": "[encoded data removed]",
      "text/plain": [
       "<Figure size 432x288 with 1 Axes>"
      ]
     },
     "metadata": {},
     "output_type": "display_data"
    }
   ],
   "source": [
    "# plot trajectory on the potential energy surface\n",
    "plt.plot(X_test, V_x_predict, \"o\", label=\"V(x)\")\n",
    "plt.plot(x_trajectory, V_x_trajectory, \".\", label = \"trajectory\")\n",
    "plt.xlim(-5,5)\n",
    "plt.ylim(-15,2.5)\n",
    "plt.xticks(np.arange(-5.0, 5.01, 1.0))\n",
    "plt.yticks(np.arange(-15.0, 5.01, 5.0))\n",
    "plt.xlabel(\"x\")\n",
    "plt.ylabel(\"V(x)\")\n",
    "plt.legend()\n",
    "plt.show()\n",
    "\n",
    "# plot trajectory as a function of time\n",
    "plt.plot(x_trajectory,\"-\")\n",
    "plt.xlim(0,len(x_trajectory))\n",
    "plt.ylim(-5, 5)\n",
    "plt.xlabel(\"t\")\n",
    "plt.ylabel(\"x\")\n",
    "plt.show()"
   ]
  },
  {
   "cell_type": "markdown",
   "metadata": {},
   "source": [
    "## Equilibrium distribution\n",
    "\n",
    "To further test the validity of the potential energy surface represented by the neural network, we consider the distribution of an ensemble of 100 Brownian particles. At equilibrium, the ratio of the among of particles in well $a$ ($N_a$) and in well $b$ ($N_b$) is\n",
    "\\begin{align}\n",
    "&\\frac{N_a}{N_b} = e^{(E_a - E_b)/k_BT}.\n",
    "&\\mbox{Equation (5)}\n",
    "\\end{align}\n",
    "With $E_a = -10$, $E_b = -12$ and $k_BT = 1$, the ratio $N_a/N_b \\simeq 0.135$ meaning that there will be more particles locate in the well $b$ than in well $a$. It is because the energy barrier for a particle to move from $b$ to $a$ is higher than that from $a$ to $b$.\n"
   ]
  },
  {
   "cell_type": "code",
   "execution_count": 12,
   "metadata": {},
   "outputs": [],
   "source": [
    "# Simulating an ensemble of Brownian particles in a potential enregy surface\n",
    "\n",
    "kT = 1.0\n",
    "gamma = 50.0\n",
    "D = kT/gamma\n",
    "\n",
    "delta = 0.5\n",
    "dt = 0.1\n",
    "\n",
    "gamma_inv_dt = dt/gamma\n",
    "sqrt_2Ddt = np.sqrt(2.0*D*dt)\n",
    "\n",
    "n_particle = 100\n",
    "n_step = 100000\n",
    "x0 = ( np.random.rand(n_particle) - 0.5 ) * 3.0 # initial position of the Brownian particle\n",
    "\n",
    "np.random.seed(21)\n",
    "random_force = np.random.randn(n_step, n_particle) * sqrt_2Ddt\n",
    "\n",
    "x_trajectory = []   # motor trajectory\n",
    "for i, ran_force in enumerate(random_force):\n",
    "    \n",
    "    # compute local gradient at the current point\n",
    "    V_x_minus_delta = model.predict(x0-delta*0.5).reshape(n_particle) * V_x_std + V_x_mean  \n",
    "    V_x_plus_delta = model.predict(x0+delta*0.5).reshape(n_particle) * V_x_std + V_x_mean \n",
    "\n",
    "    if i%10 == 0 : \n",
    "        x_trajectory.append(x0)\n",
    "        \n",
    "    x0 = x0 - gamma_inv_dt*(V_x_plus_delta - V_x_minus_delta) / delta + ran_force\n",
    "    \n",
    "x_trajectory = np.array(x_trajectory)"
   ]
  },
  {
   "cell_type": "code",
   "execution_count": 13,
   "metadata": {},
   "outputs": [
    {
     "name": "stdout",
     "output_type": "stream",
     "text": [
      "N_a/N_b = exp(Ea-Eb/kBT):\n",
      "Using equation (5) one gets 0.135000\n",
      "From simulation one gets 0.182812\n"
     ]
    }
   ],
   "source": [
    "# Count the number particles near each bottom of each well\n",
    "\n",
    "# location of the the bottom of wells a and b\n",
    "x_a = -1.5\n",
    "x_b = 1.5\n",
    "\n",
    "# lable particle location \n",
    "location = [\"a\" if ((x < x_a+0.5) & (x >x_a-0.5)) else \n",
    "            \"b\" if ((x < x_b+0.5) & (x >x_b-0.5)) else \n",
    "            \"other\" \n",
    "            for x in x_trajectory.reshape(int(n_particle*n_step/10))]\n",
    "\n",
    "from collections import Counter\n",
    "\n",
    "dict_location = Counter(location)\n",
    "\n",
    "print(\"N_a/N_b = exp(Ea-Eb/kBT):\")\n",
    "print(\"Using equation (5) one gets %f\" %  0.135)\n",
    "print(\"From simulation one gets %f\" % (dict_location[\"a\"]/dict_location[\"b\"]) )\n"
   ]
  },
  {
   "cell_type": "markdown",
   "metadata": {},
   "source": [
    "### Summary\n",
    "We have shown that a neural network is able to be used for the reconstruction of a potential surface in one dimension. For training, the input to the network is the coordinate (position) and the output is the corresponding potential energy. After training, we demonstrate that one is able to simulate the dynamics of a Brownian particle moving on a potential energy surface represented by a neural network. \n",
    "\n",
    "This method can be extended to problems with high dimensional energy surface, for example, protein folding problem. Proteins are formed by sequences of amino acid residues. In the folding funnel hypothesis, the free energy of a folded protein is assumed to be the global minimum of the free energy surface. Therefore, if one can find a way to construct a neural network for the free energy surface and the trained network can be used for the studies of protein dynamics."
   ]
  },
  {
   "cell_type": "code",
   "execution_count": null,
   "metadata": {},
   "outputs": [],
   "source": []
  }
 ],
 "metadata": {
  "kernelspec": {
   "display_name": "Python 3",
   "language": "python",
   "name": "python3"
  },
  "language_info": {
   "codemirror_mode": {
    "name": "ipython",
    "version": 3
   },
   "file_extension": ".py",
   "mimetype": "text/x-python",
   "name": "python",
   "nbconvert_exporter": "python",
   "pygments_lexer": "ipython3",
   "version": "3.5.5"
  }
 },
 "nbformat": 4,
 "nbformat_minor": 2
}
